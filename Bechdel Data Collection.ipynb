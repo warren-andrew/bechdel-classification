{
 "cells": [
  {
   "cell_type": "code",
   "execution_count": 1,
   "metadata": {},
   "outputs": [],
   "source": [
    "from collections import defaultdict\n",
    "import requests\n",
    "import time, os\n",
    "\n",
    "import numpy as np\n",
    "import pandas as pd\n",
    "\n",
    "import json, urllib3, string\n",
    "from bs4 import BeautifulSoup\n",
    "\n",
    "import pickle\n",
    "from sqlalchemy import create_engine\n",
    "\n",
    "from itertools import product\n",
    "import seaborn as sns\n",
    "import matplotlib.pyplot as plt\n",
    "from matplotlib.collections import LineCollection\n",
    "from IPython.display import Image\n",
    "import matplotlib.pylab as pylab\n",
    "\n",
    "import re\n",
    "\n",
    "import gender_guesser.detector as gender\n",
    "\n",
    "import statsmodels.api as sm\n",
    "from scipy.stats import chisquare\n",
    "from sklearn.model_selection import train_test_split"
   ]
  },
  {
   "cell_type": "markdown",
   "metadata": {},
   "source": [
    "## Import Data"
   ]
  },
  {
   "cell_type": "markdown",
   "metadata": {},
   "source": [
    "### Import data from Bechdel Test Movie List\n",
    "\n",
    "Description of data found here: http://bechdeltest.com/api/v1/doc"
   ]
  },
  {
   "cell_type": "code",
   "execution_count": 2,
   "metadata": {},
   "outputs": [
    {
     "name": "stdout",
     "output_type": "stream",
     "text": [
      "Wall time: 2.41 s\n"
     ]
    }
   ],
   "source": [
    "%%time\n",
    "all_movies_response = requests.get('http://bechdeltest.com/api/v1/getAllMovies')"
   ]
  },
  {
   "cell_type": "code",
   "execution_count": 3,
   "metadata": {},
   "outputs": [],
   "source": [
    "bechdel_movies = pd.DataFrame(all_movies_response.json())"
   ]
  },
  {
   "cell_type": "code",
   "execution_count": 4,
   "metadata": {},
   "outputs": [
    {
     "data": {
      "text/html": [
       "<div>\n",
       "<style scoped>\n",
       "    .dataframe tbody tr th:only-of-type {\n",
       "        vertical-align: middle;\n",
       "    }\n",
       "\n",
       "    .dataframe tbody tr th {\n",
       "        vertical-align: top;\n",
       "    }\n",
       "\n",
       "    .dataframe thead th {\n",
       "        text-align: right;\n",
       "    }\n",
       "</style>\n",
       "<table border=\"1\" class=\"dataframe\">\n",
       "  <thead>\n",
       "    <tr style=\"text-align: right;\">\n",
       "      <th></th>\n",
       "      <th>id</th>\n",
       "      <th>rating</th>\n",
       "      <th>title</th>\n",
       "      <th>year</th>\n",
       "      <th>imdbid</th>\n",
       "    </tr>\n",
       "  </thead>\n",
       "  <tbody>\n",
       "    <tr>\n",
       "      <th>3284</th>\n",
       "      <td>8114</td>\n",
       "      <td>3</td>\n",
       "      <td>East Is East</td>\n",
       "      <td>1999</td>\n",
       "      <td>0166175</td>\n",
       "    </tr>\n",
       "    <tr>\n",
       "      <th>2084</th>\n",
       "      <td>1203</td>\n",
       "      <td>3</td>\n",
       "      <td>Overboard</td>\n",
       "      <td>1987</td>\n",
       "      <td>0093693</td>\n",
       "    </tr>\n",
       "    <tr>\n",
       "      <th>1179</th>\n",
       "      <td>6807</td>\n",
       "      <td>2</td>\n",
       "      <td>Gamera vs. Viras</td>\n",
       "      <td>1968</td>\n",
       "      <td>0063000</td>\n",
       "    </tr>\n",
       "    <tr>\n",
       "      <th>8178</th>\n",
       "      <td>8669</td>\n",
       "      <td>2</td>\n",
       "      <td>Rings</td>\n",
       "      <td>2017</td>\n",
       "      <td>0498381</td>\n",
       "    </tr>\n",
       "    <tr>\n",
       "      <th>6403</th>\n",
       "      <td>3864</td>\n",
       "      <td>3</td>\n",
       "      <td>Strike Witches - The Movie</td>\n",
       "      <td>2012</td>\n",
       "      <td>2322603</td>\n",
       "    </tr>\n",
       "  </tbody>\n",
       "</table>\n",
       "</div>"
      ],
      "text/plain": [
       "        id  rating                       title  year   imdbid\n",
       "3284  8114       3                East Is East  1999  0166175\n",
       "2084  1203       3                   Overboard  1987  0093693\n",
       "1179  6807       2            Gamera vs. Viras  1968  0063000\n",
       "8178  8669       2                       Rings  2017  0498381\n",
       "6403  3864       3  Strike Witches - The Movie  2012  2322603"
      ]
     },
     "execution_count": 4,
     "metadata": {},
     "output_type": "execute_result"
    }
   ],
   "source": [
    "bechdel_movies.sample(n=5)"
   ]
  },
  {
   "cell_type": "code",
   "execution_count": 5,
   "metadata": {},
   "outputs": [
    {
     "data": {
      "text/html": [
       "<div>\n",
       "<style scoped>\n",
       "    .dataframe tbody tr th:only-of-type {\n",
       "        vertical-align: middle;\n",
       "    }\n",
       "\n",
       "    .dataframe tbody tr th {\n",
       "        vertical-align: top;\n",
       "    }\n",
       "\n",
       "    .dataframe thead th {\n",
       "        text-align: right;\n",
       "    }\n",
       "</style>\n",
       "<table border=\"1\" class=\"dataframe\">\n",
       "  <thead>\n",
       "    <tr style=\"text-align: right;\">\n",
       "      <th></th>\n",
       "      <th>id</th>\n",
       "      <th>rating</th>\n",
       "      <th>title</th>\n",
       "      <th>year</th>\n",
       "      <th>imdbid</th>\n",
       "      <th>imdbid_tt</th>\n",
       "    </tr>\n",
       "  </thead>\n",
       "  <tbody>\n",
       "    <tr>\n",
       "      <th>0</th>\n",
       "      <td>8040</td>\n",
       "      <td>0</td>\n",
       "      <td>Roundhay Garden Scene</td>\n",
       "      <td>1888</td>\n",
       "      <td>0392728</td>\n",
       "      <td>tt0392728</td>\n",
       "    </tr>\n",
       "    <tr>\n",
       "      <th>1</th>\n",
       "      <td>5433</td>\n",
       "      <td>0</td>\n",
       "      <td>Pauvre Pierrot</td>\n",
       "      <td>1892</td>\n",
       "      <td>0000003</td>\n",
       "      <td>tt0000003</td>\n",
       "    </tr>\n",
       "    <tr>\n",
       "      <th>2</th>\n",
       "      <td>6200</td>\n",
       "      <td>0</td>\n",
       "      <td>Execution of Mary, Queen of Scots, The</td>\n",
       "      <td>1895</td>\n",
       "      <td>0132134</td>\n",
       "      <td>tt0132134</td>\n",
       "    </tr>\n",
       "    <tr>\n",
       "      <th>3</th>\n",
       "      <td>5444</td>\n",
       "      <td>0</td>\n",
       "      <td>Tables Turned on the Gardener</td>\n",
       "      <td>1895</td>\n",
       "      <td>0000014</td>\n",
       "      <td>tt0000014</td>\n",
       "    </tr>\n",
       "    <tr>\n",
       "      <th>4</th>\n",
       "      <td>5406</td>\n",
       "      <td>0</td>\n",
       "      <td>Une nuit terrible</td>\n",
       "      <td>1896</td>\n",
       "      <td>0000131</td>\n",
       "      <td>tt0000131</td>\n",
       "    </tr>\n",
       "  </tbody>\n",
       "</table>\n",
       "</div>"
      ],
      "text/plain": [
       "     id  rating                                   title  year   imdbid  \\\n",
       "0  8040       0                   Roundhay Garden Scene  1888  0392728   \n",
       "1  5433       0                          Pauvre Pierrot  1892  0000003   \n",
       "2  6200       0  Execution of Mary, Queen of Scots, The  1895  0132134   \n",
       "3  5444       0           Tables Turned on the Gardener  1895  0000014   \n",
       "4  5406       0                       Une nuit terrible  1896  0000131   \n",
       "\n",
       "   imdbid_tt  \n",
       "0  tt0392728  \n",
       "1  tt0000003  \n",
       "2  tt0132134  \n",
       "3  tt0000014  \n",
       "4  tt0000131  "
      ]
     },
     "execution_count": 5,
     "metadata": {},
     "output_type": "execute_result"
    }
   ],
   "source": [
    "bechdel_movies_mod = bechdel_movies.copy()\n",
    "bechdel_movies_mod['imdbid_tt'] = 'tt'+ bechdel_movies_mod['imdbid']\n",
    "bechdel_movies_mod.head()"
   ]
  },
  {
   "cell_type": "markdown",
   "metadata": {},
   "source": [
    "### Import data from IMDB\n",
    "\n",
    "Description of data found here: https://www.imdb.com/interfaces/"
   ]
  },
  {
   "cell_type": "markdown",
   "metadata": {},
   "source": [
    "This takes a long time to import"
   ]
  },
  {
   "cell_type": "markdown",
   "metadata": {},
   "source": [
    "Download data (https://datasets.imdbws.com/), change filepath, and unzip here:    "
   ]
  },
  {
   "cell_type": "code",
   "execution_count": 6,
   "metadata": {},
   "outputs": [],
   "source": [
    "# !gzip -d \"C:\\Users\\wal12\\Documents\\Metis\\Project 3\\imdb-data\\name.basics.tsv.gz\"\n",
    "# !gzip -d \"C:\\Users\\wal12\\Documents\\Metis\\Project 3\\imdb-data\\title.principals.tsv.gz\"\n",
    "# !gzip -d \"C:\\Users\\wal12\\Documents\\Metis\\Project 3\\imdb-data\\title.crew.tsv.gz\"\n",
    "# !gzip -d \"C:\\Users\\wal12\\Documents\\Metis\\Project 3\\imdb-data\\title.basics.tsv.gz\"\n",
    "# !gzip -d \"C:\\Users\\wal12\\Documents\\Metis\\Project 3\\imdb-data\\title.akas.tsv.gz\""
   ]
  },
  {
   "cell_type": "code",
   "execution_count": 7,
   "metadata": {},
   "outputs": [
    {
     "name": "stderr",
     "output_type": "stream",
     "text": [
      "C:\\Users\\wal12\\anaconda3\\lib\\site-packages\\IPython\\core\\interactiveshell.py:3146: DtypeWarning: Columns (4,5) have mixed types.Specify dtype option on import or set low_memory=False.\n",
      "  has_raised = await self.run_ast_nodes(code_ast.body, cell_name,\n",
      "C:\\Users\\wal12\\anaconda3\\lib\\site-packages\\IPython\\core\\interactiveshell.py:3146: DtypeWarning: Columns (7) have mixed types.Specify dtype option on import or set low_memory=False.\n",
      "  has_raised = await self.run_ast_nodes(code_ast.body, cell_name,\n"
     ]
    }
   ],
   "source": [
    "data_dir = \"C:\\\\Users\\\\wal12\\\\Documents\\\\Metis\\\\Project 3\\\\imdb-data\\\\\" #change this directory to where you unzipped the files\n",
    "title_crew = pd.read_csv(data_dir + 'title.crew.tsv',sep='\\t')\n",
    "title_principals = pd.read_csv(data_dir + 'title.principals.tsv',sep='\\t')\n",
    "name_basics = pd.read_csv(data_dir + 'name.basics.tsv',sep='\\t')\n",
    "title_basics = pd.read_csv(data_dir + 'title.basics.tsv',sep='\\t')\n",
    "title_akas = pd.read_csv(data_dir + 'title.akas.tsv',sep='\\t')"
   ]
  },
  {
   "cell_type": "markdown",
   "metadata": {},
   "source": [
    "Describe Bechdel Data"
   ]
  },
  {
   "cell_type": "code",
   "execution_count": 8,
   "metadata": {},
   "outputs": [
    {
     "name": "stdout",
     "output_type": "stream",
     "text": [
      "Number of movies after 1950: 8205\n",
      "DataFrame shape: (8796, 6)\n",
      "Available columns: Index(['id', 'rating', 'title', 'year', 'imdbid', 'imdbid_tt'], dtype='object')\n"
     ]
    }
   ],
   "source": [
    "print(\"Number of movies after 1950:\",len(bechdel_movies[bechdel_movies['year']>=1950]))\n",
    "print(\"DataFrame shape:\",bechdel_movies_mod.shape)\n",
    "print(\"Available columns:\", bechdel_movies_mod.columns)"
   ]
  },
  {
   "cell_type": "code",
   "execution_count": 9,
   "metadata": {},
   "outputs": [
    {
     "name": "stdout",
     "output_type": "stream",
     "text": [
      "List of data imported:\n",
      "bechdel_movies\n",
      "title_crew\n",
      "title_basics\n",
      "title_principals\n",
      "title_akas\n",
      "name_basics\n"
     ]
    }
   ],
   "source": [
    "from varname import nameof\n",
    "datasets = [bechdel_movies,title_crew,title_basics,title_principals,title_akas,name_basics]\n",
    "dataset_names = [nameof(bechdel_movies),nameof(title_crew),nameof(title_basics),nameof(title_principals),nameof(title_akas),nameof(name_basics)]\n",
    "datasets_zip = list(zip(datasets,dataset_names))\n",
    "print(\"List of data imported:\")\n",
    "for name in dataset_names:\n",
    "    print(name)"
   ]
  },
  {
   "cell_type": "markdown",
   "metadata": {},
   "source": [
    "## Data Processing"
   ]
  },
  {
   "cell_type": "code",
   "execution_count": 10,
   "metadata": {},
   "outputs": [
    {
     "name": "stdout",
     "output_type": "stream",
     "text": [
      "Wall time: 0 ns\n"
     ]
    },
    {
     "data": {
      "text/html": [
       "<div>\n",
       "<style scoped>\n",
       "    .dataframe tbody tr th:only-of-type {\n",
       "        vertical-align: middle;\n",
       "    }\n",
       "\n",
       "    .dataframe tbody tr th {\n",
       "        vertical-align: top;\n",
       "    }\n",
       "\n",
       "    .dataframe thead th {\n",
       "        text-align: right;\n",
       "    }\n",
       "</style>\n",
       "<table border=\"1\" class=\"dataframe\">\n",
       "  <thead>\n",
       "    <tr style=\"text-align: right;\">\n",
       "      <th></th>\n",
       "      <th>id</th>\n",
       "      <th>rating</th>\n",
       "      <th>title</th>\n",
       "      <th>year</th>\n",
       "      <th>imdbid</th>\n",
       "      <th>imdbid_tt</th>\n",
       "      <th>tconst</th>\n",
       "      <th>directors</th>\n",
       "      <th>writers</th>\n",
       "    </tr>\n",
       "  </thead>\n",
       "  <tbody>\n",
       "    <tr>\n",
       "      <th>0</th>\n",
       "      <td>8040</td>\n",
       "      <td>0</td>\n",
       "      <td>Roundhay Garden Scene</td>\n",
       "      <td>1888</td>\n",
       "      <td>0392728</td>\n",
       "      <td>tt0392728</td>\n",
       "      <td>tt0392728</td>\n",
       "      <td>nm1284117</td>\n",
       "      <td>\\N</td>\n",
       "    </tr>\n",
       "    <tr>\n",
       "      <th>1</th>\n",
       "      <td>5433</td>\n",
       "      <td>0</td>\n",
       "      <td>Pauvre Pierrot</td>\n",
       "      <td>1892</td>\n",
       "      <td>0000003</td>\n",
       "      <td>tt0000003</td>\n",
       "      <td>tt0000003</td>\n",
       "      <td>nm0721526</td>\n",
       "      <td>\\N</td>\n",
       "    </tr>\n",
       "    <tr>\n",
       "      <th>2</th>\n",
       "      <td>6200</td>\n",
       "      <td>0</td>\n",
       "      <td>Execution of Mary, Queen of Scots, The</td>\n",
       "      <td>1895</td>\n",
       "      <td>0132134</td>\n",
       "      <td>tt0132134</td>\n",
       "      <td>tt0132134</td>\n",
       "      <td>nm0163632</td>\n",
       "      <td>\\N</td>\n",
       "    </tr>\n",
       "    <tr>\n",
       "      <th>3</th>\n",
       "      <td>5444</td>\n",
       "      <td>0</td>\n",
       "      <td>Tables Turned on the Gardener</td>\n",
       "      <td>1895</td>\n",
       "      <td>0000014</td>\n",
       "      <td>tt0000014</td>\n",
       "      <td>tt0000014</td>\n",
       "      <td>nm0525910,nm0349785</td>\n",
       "      <td>\\N</td>\n",
       "    </tr>\n",
       "    <tr>\n",
       "      <th>4</th>\n",
       "      <td>5406</td>\n",
       "      <td>0</td>\n",
       "      <td>Une nuit terrible</td>\n",
       "      <td>1896</td>\n",
       "      <td>0000131</td>\n",
       "      <td>tt0000131</td>\n",
       "      <td>tt0000131</td>\n",
       "      <td>nm0617588</td>\n",
       "      <td>\\N</td>\n",
       "    </tr>\n",
       "  </tbody>\n",
       "</table>\n",
       "</div>"
      ],
      "text/plain": [
       "     id  rating                                   title  year   imdbid  \\\n",
       "0  8040       0                   Roundhay Garden Scene  1888  0392728   \n",
       "1  5433       0                          Pauvre Pierrot  1892  0000003   \n",
       "2  6200       0  Execution of Mary, Queen of Scots, The  1895  0132134   \n",
       "3  5444       0           Tables Turned on the Gardener  1895  0000014   \n",
       "4  5406       0                       Une nuit terrible  1896  0000131   \n",
       "\n",
       "   imdbid_tt     tconst            directors writers  \n",
       "0  tt0392728  tt0392728            nm1284117      \\N  \n",
       "1  tt0000003  tt0000003            nm0721526      \\N  \n",
       "2  tt0132134  tt0132134            nm0163632      \\N  \n",
       "3  tt0000014  tt0000014  nm0525910,nm0349785      \\N  \n",
       "4  tt0000131  tt0000131            nm0617588      \\N  "
      ]
     },
     "execution_count": 10,
     "metadata": {},
     "output_type": "execute_result"
    }
   ],
   "source": [
    "%time\n",
    "\n",
    "merge = bechdel_movies_mod.merge(title_crew,how='inner',left_on='imdbid_tt',right_on='tconst')\n",
    "# merge = merge.merge(title_principals,how='inner',left_on='imdbid_tt',right_on='tconst')\n",
    "merge.head()"
   ]
  },
  {
   "cell_type": "code",
   "execution_count": null,
   "metadata": {},
   "outputs": [],
   "source": [
    "merge_principals = bechdel_movies_mod.merge(title_principals,how='inner',left_on='imdbid_tt',right_on='tconst')\n",
    "principals_names = merge_principals.merge(name_basics[['nconst','primaryName']],how='inner',left_on='nconst',right_on='nconst')\n",
    "principals_names['firstName'] = principals_names['primaryName'].str.extract('(^\\S+) ')\n",
    "principals_names = principals_names[(principals_names.category.isin(['actor','writer','actress','producer','director','editor']))]\n",
    "principals_names.head()"
   ]
  },
  {
   "cell_type": "code",
   "execution_count": null,
   "metadata": {
    "scrolled": true
   },
   "outputs": [],
   "source": [
    "# merge[merge['imdbid_tt']=='tt0084745']"
   ]
  },
  {
   "cell_type": "code",
   "execution_count": null,
   "metadata": {},
   "outputs": [],
   "source": [
    "# merge_principals[merge_principals['imdbid_tt']=='tt0084745']"
   ]
  },
  {
   "cell_type": "markdown",
   "metadata": {},
   "source": [
    "Process merged director data "
   ]
  },
  {
   "cell_type": "code",
   "execution_count": null,
   "metadata": {},
   "outputs": [],
   "source": [
    "id_directors = pd.DataFrame(merge['directors'].str.split(',').tolist(),index=merge['imdbid_tt']).stack()\n",
    "id_directors = id_directors.reset_index([0,'imdbid_tt'])\n",
    "id_directors.columns = ['imdbid_tt','directors']\n",
    "\n",
    "id_directors = id_directors.merge(name_basics[['nconst','primaryName']],how='inner',left_on='directors',right_on='nconst')\n",
    "id_directors['firstName'] = id_directors['primaryName'].str.extract('(^\\S+) ')\n",
    "# id_directors['gender'] = id_directors['firstName'].apply(d.get_gender)\n",
    "\n",
    "id_directors.head()"
   ]
  },
  {
   "cell_type": "markdown",
   "metadata": {},
   "source": [
    "Process merged writer data"
   ]
  },
  {
   "cell_type": "code",
   "execution_count": null,
   "metadata": {
    "scrolled": true
   },
   "outputs": [],
   "source": [
    "id_writers = pd.DataFrame(merge['writers'].str.split(',').tolist(),index=merge['imdbid_tt']).stack()\n",
    "id_writers = id_writers.reset_index([0,'imdbid_tt'])\n",
    "id_writers.columns = ['imdbid_tt','writers']\n",
    "\n",
    "id_writers = id_writers.merge(name_basics[['nconst','primaryName']],how='inner',left_on='writers',right_on='nconst')\n",
    "id_writers['firstName'] = id_writers['primaryName'].str.extract('(^\\S+) ')\n",
    "# id_writers['gender'] = id_writers['firstName'].apply(d.get_gender)\n",
    "\n",
    "id_writers.head()"
   ]
  },
  {
   "cell_type": "markdown",
   "metadata": {},
   "source": [
    "Generate dataset names"
   ]
  },
  {
   "cell_type": "code",
   "execution_count": null,
   "metadata": {},
   "outputs": [],
   "source": [
    "from varname import nameof\n",
    "datasets = [merge,principals_names,id_directors,id_writers]\n",
    "datasets_names = [nameof(merge),nameof(principals_names),nameof(id_directors),nameof(id_writers)]\n",
    "datasets_zip = list(zip(datasets,datasets_names))\n",
    "datasets_dict = {}\n",
    "for item in datasets_zip:\n",
    "    datasets_dict[item[1]] = item[0]\n",
    "\n",
    "datasets_dict.keys()"
   ]
  },
  {
   "cell_type": "markdown",
   "metadata": {},
   "source": [
    "Pickle"
   ]
  },
  {
   "cell_type": "code",
   "execution_count": 18,
   "metadata": {},
   "outputs": [],
   "source": [
    "with open('datasets_dict.pickle', 'wb') as f:\n",
    "    pickle.dump(datasets_dict, f, pickle.HIGHEST_PROTOCOL)"
   ]
  }
 ],
 "metadata": {
  "kernelspec": {
   "display_name": "Python 3",
   "language": "python",
   "name": "python3"
  },
  "language_info": {
   "codemirror_mode": {
    "name": "ipython",
    "version": 3
   },
   "file_extension": ".py",
   "mimetype": "text/x-python",
   "name": "python",
   "nbconvert_exporter": "python",
   "pygments_lexer": "ipython3",
   "version": "3.8.5"
  }
 },
 "nbformat": 4,
 "nbformat_minor": 2
}
