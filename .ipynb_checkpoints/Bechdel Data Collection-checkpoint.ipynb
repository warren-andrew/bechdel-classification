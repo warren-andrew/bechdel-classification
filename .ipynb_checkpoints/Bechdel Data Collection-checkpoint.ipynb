{
 "cells": [
  {
   "cell_type": "code",
   "execution_count": 6,
   "metadata": {},
   "outputs": [],
   "source": [
    "from collections import defaultdict\n",
    "import requests\n",
    "import time, os\n",
    "\n",
    "import numpy as np\n",
    "import pandas as pd\n",
    "\n",
    "import json, urllib3, string\n",
    "from bs4 import BeautifulSoup\n",
    "\n",
    "import pickle\n",
    "from sqlalchemy import create_engine\n",
    "\n",
    "from itertools import product\n",
    "import seaborn as sns\n",
    "import matplotlib.pyplot as plt\n",
    "from matplotlib.collections import LineCollection\n",
    "from IPython.display import Image\n",
    "import matplotlib.pylab as pylab\n",
    "\n",
    "import re\n",
    "\n",
    "import gender_guesser.detector as gender\n",
    "\n",
    "import statsmodels.api as sm\n",
    "from scipy.stats import chisquare\n",
    "from sklearn.model_selection import train_test_split"
   ]
  },
  {
   "cell_type": "markdown",
   "metadata": {},
   "source": [
    "## Import Data"
   ]
  },
  {
   "cell_type": "markdown",
   "metadata": {},
   "source": [
    "### Import data from Bechdel Test Movie List\n",
    "\n",
    "Description of data found here: http://bechdeltest.com/api/v1/doc"
   ]
  },
  {
   "cell_type": "code",
   "execution_count": 7,
   "metadata": {},
   "outputs": [
    {
     "name": "stdout",
     "output_type": "stream",
     "text": [
      "Wall time: 2.73 s\n"
     ]
    }
   ],
   "source": [
    "%%time\n",
    "all_movies_response = requests.get('http://bechdeltest.com/api/v1/getAllMovies')"
   ]
  },
  {
   "cell_type": "code",
   "execution_count": 8,
   "metadata": {},
   "outputs": [],
   "source": [
    "bechdel_movies = pd.DataFrame(all_movies_response.json())"
   ]
  },
  {
   "cell_type": "code",
   "execution_count": 9,
   "metadata": {},
   "outputs": [
    {
     "data": {
      "text/html": [
       "<div>\n",
       "<style scoped>\n",
       "    .dataframe tbody tr th:only-of-type {\n",
       "        vertical-align: middle;\n",
       "    }\n",
       "\n",
       "    .dataframe tbody tr th {\n",
       "        vertical-align: top;\n",
       "    }\n",
       "\n",
       "    .dataframe thead th {\n",
       "        text-align: right;\n",
       "    }\n",
       "</style>\n",
       "<table border=\"1\" class=\"dataframe\">\n",
       "  <thead>\n",
       "    <tr style=\"text-align: right;\">\n",
       "      <th></th>\n",
       "      <th>imdbid</th>\n",
       "      <th>title</th>\n",
       "      <th>id</th>\n",
       "      <th>year</th>\n",
       "      <th>rating</th>\n",
       "    </tr>\n",
       "  </thead>\n",
       "  <tbody>\n",
       "    <tr>\n",
       "      <td>4279</td>\n",
       "      <td>0357507</td>\n",
       "      <td>Boogeyman</td>\n",
       "      <td>4968</td>\n",
       "      <td>2005</td>\n",
       "      <td>2</td>\n",
       "    </tr>\n",
       "    <tr>\n",
       "      <td>7708</td>\n",
       "      <td>1878841</td>\n",
       "      <td>Darkness, The</td>\n",
       "      <td>7766</td>\n",
       "      <td>2016</td>\n",
       "      <td>2</td>\n",
       "    </tr>\n",
       "    <tr>\n",
       "      <td>5954</td>\n",
       "      <td>1723811</td>\n",
       "      <td>Shame</td>\n",
       "      <td>3511</td>\n",
       "      <td>2011</td>\n",
       "      <td>1</td>\n",
       "    </tr>\n",
       "    <tr>\n",
       "      <td>1512</td>\n",
       "      <td>0075860</td>\n",
       "      <td>Close Encounters of the Third Kind</td>\n",
       "      <td>3610</td>\n",
       "      <td>1977</td>\n",
       "      <td>1</td>\n",
       "    </tr>\n",
       "    <tr>\n",
       "      <td>6572</td>\n",
       "      <td>1699755</td>\n",
       "      <td>Peeples</td>\n",
       "      <td>4205</td>\n",
       "      <td>2013</td>\n",
       "      <td>3</td>\n",
       "    </tr>\n",
       "  </tbody>\n",
       "</table>\n",
       "</div>"
      ],
      "text/plain": [
       "       imdbid                               title    id  year  rating\n",
       "4279  0357507                           Boogeyman  4968  2005       2\n",
       "7708  1878841                       Darkness, The  7766  2016       2\n",
       "5954  1723811                               Shame  3511  2011       1\n",
       "1512  0075860  Close Encounters of the Third Kind  3610  1977       1\n",
       "6572  1699755                             Peeples  4205  2013       3"
      ]
     },
     "execution_count": 9,
     "metadata": {},
     "output_type": "execute_result"
    }
   ],
   "source": [
    "bechdel_movies.sample(n=5)"
   ]
  },
  {
   "cell_type": "code",
   "execution_count": 10,
   "metadata": {},
   "outputs": [
    {
     "data": {
      "text/html": [
       "<div>\n",
       "<style scoped>\n",
       "    .dataframe tbody tr th:only-of-type {\n",
       "        vertical-align: middle;\n",
       "    }\n",
       "\n",
       "    .dataframe tbody tr th {\n",
       "        vertical-align: top;\n",
       "    }\n",
       "\n",
       "    .dataframe thead th {\n",
       "        text-align: right;\n",
       "    }\n",
       "</style>\n",
       "<table border=\"1\" class=\"dataframe\">\n",
       "  <thead>\n",
       "    <tr style=\"text-align: right;\">\n",
       "      <th></th>\n",
       "      <th>imdbid</th>\n",
       "      <th>title</th>\n",
       "      <th>id</th>\n",
       "      <th>year</th>\n",
       "      <th>rating</th>\n",
       "      <th>imdbid_tt</th>\n",
       "    </tr>\n",
       "  </thead>\n",
       "  <tbody>\n",
       "    <tr>\n",
       "      <td>0</td>\n",
       "      <td>0392728</td>\n",
       "      <td>Roundhay Garden Scene</td>\n",
       "      <td>8040</td>\n",
       "      <td>1888</td>\n",
       "      <td>0</td>\n",
       "      <td>tt0392728</td>\n",
       "    </tr>\n",
       "    <tr>\n",
       "      <td>1</td>\n",
       "      <td>0000003</td>\n",
       "      <td>Pauvre Pierrot</td>\n",
       "      <td>5433</td>\n",
       "      <td>1892</td>\n",
       "      <td>0</td>\n",
       "      <td>tt0000003</td>\n",
       "    </tr>\n",
       "    <tr>\n",
       "      <td>2</td>\n",
       "      <td>0132134</td>\n",
       "      <td>Execution of Mary, Queen of Scots, The</td>\n",
       "      <td>6200</td>\n",
       "      <td>1895</td>\n",
       "      <td>0</td>\n",
       "      <td>tt0132134</td>\n",
       "    </tr>\n",
       "    <tr>\n",
       "      <td>3</td>\n",
       "      <td>0000014</td>\n",
       "      <td>Tables Turned on the Gardener</td>\n",
       "      <td>5444</td>\n",
       "      <td>1895</td>\n",
       "      <td>0</td>\n",
       "      <td>tt0000014</td>\n",
       "    </tr>\n",
       "    <tr>\n",
       "      <td>4</td>\n",
       "      <td>0000131</td>\n",
       "      <td>Une nuit terrible</td>\n",
       "      <td>5406</td>\n",
       "      <td>1896</td>\n",
       "      <td>0</td>\n",
       "      <td>tt0000131</td>\n",
       "    </tr>\n",
       "  </tbody>\n",
       "</table>\n",
       "</div>"
      ],
      "text/plain": [
       "    imdbid                                   title    id  year  rating  \\\n",
       "0  0392728                   Roundhay Garden Scene  8040  1888       0   \n",
       "1  0000003                          Pauvre Pierrot  5433  1892       0   \n",
       "2  0132134  Execution of Mary, Queen of Scots, The  6200  1895       0   \n",
       "3  0000014           Tables Turned on the Gardener  5444  1895       0   \n",
       "4  0000131                       Une nuit terrible  5406  1896       0   \n",
       "\n",
       "   imdbid_tt  \n",
       "0  tt0392728  \n",
       "1  tt0000003  \n",
       "2  tt0132134  \n",
       "3  tt0000014  \n",
       "4  tt0000131  "
      ]
     },
     "execution_count": 10,
     "metadata": {},
     "output_type": "execute_result"
    }
   ],
   "source": [
    "bechdel_movies_mod = bechdel_movies.copy()\n",
    "bechdel_movies_mod['imdbid_tt'] = 'tt'+ bechdel_movies_mod['imdbid']\n",
    "bechdel_movies_mod.head()"
   ]
  },
  {
   "cell_type": "markdown",
   "metadata": {},
   "source": [
    "### Import data from IMDB\n",
    "\n",
    "Description of data found here: https://www.imdb.com/interfaces/"
   ]
  },
  {
   "cell_type": "markdown",
   "metadata": {},
   "source": [
    "This takes a long time to import"
   ]
  },
  {
   "cell_type": "markdown",
   "metadata": {},
   "source": [
    "Download data (https://datasets.imdbws.com/), change filepath, and unzip here:    "
   ]
  },
  {
   "cell_type": "code",
   "execution_count": 5,
   "metadata": {},
   "outputs": [],
   "source": [
    "# !gzip -d \"C:\\Users\\wlee\\Documents\\Non Work Related\\Metis\\Project 3\\imdb data\\name.basics.tsv.gz\"\n",
    "# !gzip -d \"C:\\Users\\wlee\\Documents\\Non Work Related\\Metis\\Project 3\\imdb data\\title.principals.tsv.gz\"\n",
    "# !gzip -d \"C:\\Users\\wlee\\Documents\\Non Work Related\\Metis\\Project 3\\imdb data\\title.crew.tsv.gz\"\n",
    "# !gzip -d \"C:\\Users\\wlee\\Documents\\Non Work Related\\Metis\\Project 3\\imdb data\\title.basics.tsv.gz\"\n",
    "# !gzip -d \"C:\\Users\\wlee\\Documents\\Non Work Related\\Metis\\Project 3\\imdb data\\title.akas.tsv.gz\""
   ]
  },
  {
   "cell_type": "code",
   "execution_count": 12,
   "metadata": {},
   "outputs": [],
   "source": [
    "data_dir = \"C:\\\\Users\\\\wlee\\\\Documents\\\\Non Work Related\\\\Metis\\\\Project 3\\\\imdb data\\\\\" #change this directory to where you unzipped the files\n",
    "title_crew = pd.read_csv(data_dir + 'title.crew.tsv',sep='\\t')\n",
    "title_principals = pd.read_csv(data_dir + 'title.principals.tsv',sep='\\t')\n",
    "name_basics = pd.read_csv(data_dir + 'name.basics.tsv',sep='\\t')\n",
    "title_basics = pd.read_csv(data_dir + 'title.basics.tsv',sep='\\t')\n",
    "title_akas = pd.read_csv(data_dir + 'title.akas.tsv',sep='\\t')"
   ]
  },
  {
   "cell_type": "markdown",
   "metadata": {},
   "source": [
    "Describe Bechdel Data"
   ]
  },
  {
   "cell_type": "code",
   "execution_count": 13,
   "metadata": {},
   "outputs": [
    {
     "name": "stdout",
     "output_type": "stream",
     "text": [
      "Number of movies after 1950: 8205\n",
      "DataFrame shape: (8796, 6)\n",
      "Available columns: Index(['imdbid', 'title', 'id', 'year', 'rating', 'imdbid_tt'], dtype='object')\n"
     ]
    }
   ],
   "source": [
    "print(\"Number of movies after 1950:\",len(bechdel_movies[bechdel_movies['year']>=1950]))\n",
    "print(\"DataFrame shape:\",bechdel_movies_mod.shape)\n",
    "print(\"Available columns:\", bechdel_movies_mod.columns)"
   ]
  },
  {
   "cell_type": "code",
   "execution_count": 16,
   "metadata": {},
   "outputs": [
    {
     "name": "stdout",
     "output_type": "stream",
     "text": [
      "List of data imported:\n",
      "bechdel_movies\n",
      "title_crew\n",
      "title_basics\n",
      "title_principals\n",
      "title_akas\n",
      "name_basics\n"
     ]
    }
   ],
   "source": [
    "from varname import nameof\n",
    "datasets = [bechdel_movies,title_crew,title_basics,title_principals,title_akas,name_basics]\n",
    "dataset_names = [nameof(bechdel_movies),nameof(title_crew),nameof(title_basics),nameof(title_principals),nameof(title_akas),nameof(name_basics)]\n",
    "datasets_zip = list(zip(datasets,dataset_names))\n",
    "print(\"List of data imported:\")\n",
    "for name in dataset_names:\n",
    "    print(name)"
   ]
  },
  {
   "cell_type": "markdown",
   "metadata": {},
   "source": [
    "## Data Processing"
   ]
  },
  {
   "cell_type": "code",
   "execution_count": 17,
   "metadata": {},
   "outputs": [
    {
     "name": "stdout",
     "output_type": "stream",
     "text": [
      "Wall time: 0 ns\n"
     ]
    },
    {
     "data": {
      "text/html": [
       "<div>\n",
       "<style scoped>\n",
       "    .dataframe tbody tr th:only-of-type {\n",
       "        vertical-align: middle;\n",
       "    }\n",
       "\n",
       "    .dataframe tbody tr th {\n",
       "        vertical-align: top;\n",
       "    }\n",
       "\n",
       "    .dataframe thead th {\n",
       "        text-align: right;\n",
       "    }\n",
       "</style>\n",
       "<table border=\"1\" class=\"dataframe\">\n",
       "  <thead>\n",
       "    <tr style=\"text-align: right;\">\n",
       "      <th></th>\n",
       "      <th>imdbid</th>\n",
       "      <th>title</th>\n",
       "      <th>id</th>\n",
       "      <th>year</th>\n",
       "      <th>rating</th>\n",
       "      <th>imdbid_tt</th>\n",
       "      <th>tconst</th>\n",
       "      <th>directors</th>\n",
       "      <th>writers</th>\n",
       "    </tr>\n",
       "  </thead>\n",
       "  <tbody>\n",
       "    <tr>\n",
       "      <td>0</td>\n",
       "      <td>0392728</td>\n",
       "      <td>Roundhay Garden Scene</td>\n",
       "      <td>8040</td>\n",
       "      <td>1888</td>\n",
       "      <td>0</td>\n",
       "      <td>tt0392728</td>\n",
       "      <td>tt0392728</td>\n",
       "      <td>nm1284117</td>\n",
       "      <td>\\N</td>\n",
       "    </tr>\n",
       "    <tr>\n",
       "      <td>1</td>\n",
       "      <td>0000003</td>\n",
       "      <td>Pauvre Pierrot</td>\n",
       "      <td>5433</td>\n",
       "      <td>1892</td>\n",
       "      <td>0</td>\n",
       "      <td>tt0000003</td>\n",
       "      <td>tt0000003</td>\n",
       "      <td>nm0721526</td>\n",
       "      <td>\\N</td>\n",
       "    </tr>\n",
       "    <tr>\n",
       "      <td>2</td>\n",
       "      <td>0132134</td>\n",
       "      <td>Execution of Mary, Queen of Scots, The</td>\n",
       "      <td>6200</td>\n",
       "      <td>1895</td>\n",
       "      <td>0</td>\n",
       "      <td>tt0132134</td>\n",
       "      <td>tt0132134</td>\n",
       "      <td>nm0163632</td>\n",
       "      <td>\\N</td>\n",
       "    </tr>\n",
       "    <tr>\n",
       "      <td>3</td>\n",
       "      <td>0000014</td>\n",
       "      <td>Tables Turned on the Gardener</td>\n",
       "      <td>5444</td>\n",
       "      <td>1895</td>\n",
       "      <td>0</td>\n",
       "      <td>tt0000014</td>\n",
       "      <td>tt0000014</td>\n",
       "      <td>nm0349785,nm0525910</td>\n",
       "      <td>\\N</td>\n",
       "    </tr>\n",
       "    <tr>\n",
       "      <td>4</td>\n",
       "      <td>0000131</td>\n",
       "      <td>Une nuit terrible</td>\n",
       "      <td>5406</td>\n",
       "      <td>1896</td>\n",
       "      <td>0</td>\n",
       "      <td>tt0000131</td>\n",
       "      <td>tt0000131</td>\n",
       "      <td>nm0617588</td>\n",
       "      <td>\\N</td>\n",
       "    </tr>\n",
       "  </tbody>\n",
       "</table>\n",
       "</div>"
      ],
      "text/plain": [
       "    imdbid                                   title    id  year  rating  \\\n",
       "0  0392728                   Roundhay Garden Scene  8040  1888       0   \n",
       "1  0000003                          Pauvre Pierrot  5433  1892       0   \n",
       "2  0132134  Execution of Mary, Queen of Scots, The  6200  1895       0   \n",
       "3  0000014           Tables Turned on the Gardener  5444  1895       0   \n",
       "4  0000131                       Une nuit terrible  5406  1896       0   \n",
       "\n",
       "   imdbid_tt     tconst            directors writers  \n",
       "0  tt0392728  tt0392728            nm1284117      \\N  \n",
       "1  tt0000003  tt0000003            nm0721526      \\N  \n",
       "2  tt0132134  tt0132134            nm0163632      \\N  \n",
       "3  tt0000014  tt0000014  nm0349785,nm0525910      \\N  \n",
       "4  tt0000131  tt0000131            nm0617588      \\N  "
      ]
     },
     "execution_count": 17,
     "metadata": {},
     "output_type": "execute_result"
    }
   ],
   "source": [
    "%time\n",
    "\n",
    "merge = bechdel_movies_mod.merge(title_crew,how='inner',left_on='imdbid_tt',right_on='tconst')\n",
    "# merge = merge.merge(title_principals,how='inner',left_on='imdbid_tt',right_on='tconst')\n",
    "merge.head()"
   ]
  },
  {
   "cell_type": "code",
   "execution_count": 18,
   "metadata": {},
   "outputs": [
    {
     "data": {
      "text/html": [
       "<div>\n",
       "<style scoped>\n",
       "    .dataframe tbody tr th:only-of-type {\n",
       "        vertical-align: middle;\n",
       "    }\n",
       "\n",
       "    .dataframe tbody tr th {\n",
       "        vertical-align: top;\n",
       "    }\n",
       "\n",
       "    .dataframe thead th {\n",
       "        text-align: right;\n",
       "    }\n",
       "</style>\n",
       "<table border=\"1\" class=\"dataframe\">\n",
       "  <thead>\n",
       "    <tr style=\"text-align: right;\">\n",
       "      <th></th>\n",
       "      <th>imdbid</th>\n",
       "      <th>title</th>\n",
       "      <th>id</th>\n",
       "      <th>year</th>\n",
       "      <th>rating</th>\n",
       "      <th>imdbid_tt</th>\n",
       "      <th>tconst</th>\n",
       "      <th>ordering</th>\n",
       "      <th>nconst</th>\n",
       "      <th>category</th>\n",
       "      <th>job</th>\n",
       "      <th>characters</th>\n",
       "      <th>primaryName</th>\n",
       "      <th>firstName</th>\n",
       "    </tr>\n",
       "  </thead>\n",
       "  <tbody>\n",
       "    <tr>\n",
       "      <td>4</td>\n",
       "      <td>0392728</td>\n",
       "      <td>Roundhay Garden Scene</td>\n",
       "      <td>8040</td>\n",
       "      <td>1888</td>\n",
       "      <td>0</td>\n",
       "      <td>tt0392728</td>\n",
       "      <td>tt0392728</td>\n",
       "      <td>5</td>\n",
       "      <td>nm1284117</td>\n",
       "      <td>director</td>\n",
       "      <td>\\N</td>\n",
       "      <td>\\N</td>\n",
       "      <td>Louis Aimé Augustin Le Prince</td>\n",
       "      <td>Louis</td>\n",
       "    </tr>\n",
       "    <tr>\n",
       "      <td>5</td>\n",
       "      <td>0000003</td>\n",
       "      <td>Pauvre Pierrot</td>\n",
       "      <td>5433</td>\n",
       "      <td>1892</td>\n",
       "      <td>0</td>\n",
       "      <td>tt0000003</td>\n",
       "      <td>tt0000003</td>\n",
       "      <td>1</td>\n",
       "      <td>nm0721526</td>\n",
       "      <td>director</td>\n",
       "      <td>\\N</td>\n",
       "      <td>\\N</td>\n",
       "      <td>Émile Reynaud</td>\n",
       "      <td>Émile</td>\n",
       "    </tr>\n",
       "    <tr>\n",
       "      <td>6</td>\n",
       "      <td>0000003</td>\n",
       "      <td>Pauvre Pierrot</td>\n",
       "      <td>5433</td>\n",
       "      <td>1892</td>\n",
       "      <td>0</td>\n",
       "      <td>tt0000003</td>\n",
       "      <td>tt0000003</td>\n",
       "      <td>2</td>\n",
       "      <td>nm1770680</td>\n",
       "      <td>producer</td>\n",
       "      <td>producer</td>\n",
       "      <td>\\N</td>\n",
       "      <td>Julien Pappé</td>\n",
       "      <td>Julien</td>\n",
       "    </tr>\n",
       "    <tr>\n",
       "      <td>8</td>\n",
       "      <td>0000003</td>\n",
       "      <td>Pauvre Pierrot</td>\n",
       "      <td>5433</td>\n",
       "      <td>1892</td>\n",
       "      <td>0</td>\n",
       "      <td>tt0000003</td>\n",
       "      <td>tt0000003</td>\n",
       "      <td>4</td>\n",
       "      <td>nm5442200</td>\n",
       "      <td>editor</td>\n",
       "      <td>\\N</td>\n",
       "      <td>\\N</td>\n",
       "      <td>Tamara Pappé</td>\n",
       "      <td>Tamara</td>\n",
       "    </tr>\n",
       "    <tr>\n",
       "      <td>9</td>\n",
       "      <td>0132134</td>\n",
       "      <td>Execution of Mary, Queen of Scots, The</td>\n",
       "      <td>6200</td>\n",
       "      <td>1895</td>\n",
       "      <td>0</td>\n",
       "      <td>tt0132134</td>\n",
       "      <td>tt0132134</td>\n",
       "      <td>1</td>\n",
       "      <td>nm0858405</td>\n",
       "      <td>actor</td>\n",
       "      <td>\\N</td>\n",
       "      <td>[\"Queen Mary\"]</td>\n",
       "      <td>Robert Thomae</td>\n",
       "      <td>Robert</td>\n",
       "    </tr>\n",
       "  </tbody>\n",
       "</table>\n",
       "</div>"
      ],
      "text/plain": [
       "    imdbid                                   title    id  year  rating  \\\n",
       "4  0392728                   Roundhay Garden Scene  8040  1888       0   \n",
       "5  0000003                          Pauvre Pierrot  5433  1892       0   \n",
       "6  0000003                          Pauvre Pierrot  5433  1892       0   \n",
       "8  0000003                          Pauvre Pierrot  5433  1892       0   \n",
       "9  0132134  Execution of Mary, Queen of Scots, The  6200  1895       0   \n",
       "\n",
       "   imdbid_tt     tconst  ordering     nconst  category       job  \\\n",
       "4  tt0392728  tt0392728         5  nm1284117  director        \\N   \n",
       "5  tt0000003  tt0000003         1  nm0721526  director        \\N   \n",
       "6  tt0000003  tt0000003         2  nm1770680  producer  producer   \n",
       "8  tt0000003  tt0000003         4  nm5442200    editor        \\N   \n",
       "9  tt0132134  tt0132134         1  nm0858405     actor        \\N   \n",
       "\n",
       "       characters                    primaryName firstName  \n",
       "4              \\N  Louis Aimé Augustin Le Prince     Louis  \n",
       "5              \\N                  Émile Reynaud     Émile  \n",
       "6              \\N                   Julien Pappé    Julien  \n",
       "8              \\N                   Tamara Pappé    Tamara  \n",
       "9  [\"Queen Mary\"]                  Robert Thomae    Robert  "
      ]
     },
     "execution_count": 18,
     "metadata": {},
     "output_type": "execute_result"
    }
   ],
   "source": [
    "merge_principals = bechdel_movies_mod.merge(title_principals,how='inner',left_on='imdbid_tt',right_on='tconst')\n",
    "principals_names = merge_principals.merge(name_basics[['nconst','primaryName']],how='inner',left_on='nconst',right_on='nconst')\n",
    "principals_names['firstName'] = principals_names['primaryName'].str.extract('(^\\S+) ')\n",
    "principals_names = principals_names[(principals_names.category.isin(['actor','writer','actress','producer','director','editor']))]\n",
    "principals_names.head()"
   ]
  },
  {
   "cell_type": "code",
   "execution_count": 19,
   "metadata": {
    "scrolled": true
   },
   "outputs": [],
   "source": [
    "# merge[merge['imdbid_tt']=='tt0084745']"
   ]
  },
  {
   "cell_type": "code",
   "execution_count": 20,
   "metadata": {},
   "outputs": [],
   "source": [
    "# merge_principals[merge_principals['imdbid_tt']=='tt0084745']"
   ]
  },
  {
   "cell_type": "markdown",
   "metadata": {},
   "source": [
    "Process merged director data "
   ]
  },
  {
   "cell_type": "code",
   "execution_count": 21,
   "metadata": {},
   "outputs": [
    {
     "data": {
      "text/html": [
       "<div>\n",
       "<style scoped>\n",
       "    .dataframe tbody tr th:only-of-type {\n",
       "        vertical-align: middle;\n",
       "    }\n",
       "\n",
       "    .dataframe tbody tr th {\n",
       "        vertical-align: top;\n",
       "    }\n",
       "\n",
       "    .dataframe thead th {\n",
       "        text-align: right;\n",
       "    }\n",
       "</style>\n",
       "<table border=\"1\" class=\"dataframe\">\n",
       "  <thead>\n",
       "    <tr style=\"text-align: right;\">\n",
       "      <th></th>\n",
       "      <th>imdbid_tt</th>\n",
       "      <th>directors</th>\n",
       "      <th>nconst</th>\n",
       "      <th>primaryName</th>\n",
       "      <th>firstName</th>\n",
       "    </tr>\n",
       "  </thead>\n",
       "  <tbody>\n",
       "    <tr>\n",
       "      <td>0</td>\n",
       "      <td>tt0392728</td>\n",
       "      <td>nm1284117</td>\n",
       "      <td>nm1284117</td>\n",
       "      <td>Louis Aimé Augustin Le Prince</td>\n",
       "      <td>Louis</td>\n",
       "    </tr>\n",
       "    <tr>\n",
       "      <td>1</td>\n",
       "      <td>tt0000003</td>\n",
       "      <td>nm0721526</td>\n",
       "      <td>nm0721526</td>\n",
       "      <td>Émile Reynaud</td>\n",
       "      <td>Émile</td>\n",
       "    </tr>\n",
       "    <tr>\n",
       "      <td>2</td>\n",
       "      <td>tt0132134</td>\n",
       "      <td>nm0163632</td>\n",
       "      <td>nm0163632</td>\n",
       "      <td>Alfred Clark</td>\n",
       "      <td>Alfred</td>\n",
       "    </tr>\n",
       "    <tr>\n",
       "      <td>3</td>\n",
       "      <td>tt0000014</td>\n",
       "      <td>nm0349785</td>\n",
       "      <td>nm0349785</td>\n",
       "      <td>Alice Guy</td>\n",
       "      <td>Alice</td>\n",
       "    </tr>\n",
       "    <tr>\n",
       "      <td>4</td>\n",
       "      <td>tt0223341</td>\n",
       "      <td>nm0349785</td>\n",
       "      <td>nm0349785</td>\n",
       "      <td>Alice Guy</td>\n",
       "      <td>Alice</td>\n",
       "    </tr>\n",
       "  </tbody>\n",
       "</table>\n",
       "</div>"
      ],
      "text/plain": [
       "   imdbid_tt  directors     nconst                    primaryName firstName\n",
       "0  tt0392728  nm1284117  nm1284117  Louis Aimé Augustin Le Prince     Louis\n",
       "1  tt0000003  nm0721526  nm0721526                  Émile Reynaud     Émile\n",
       "2  tt0132134  nm0163632  nm0163632                   Alfred Clark    Alfred\n",
       "3  tt0000014  nm0349785  nm0349785                      Alice Guy     Alice\n",
       "4  tt0223341  nm0349785  nm0349785                      Alice Guy     Alice"
      ]
     },
     "execution_count": 21,
     "metadata": {},
     "output_type": "execute_result"
    }
   ],
   "source": [
    "id_directors = pd.DataFrame(merge['directors'].str.split(',').tolist(),index=merge['imdbid_tt']).stack()\n",
    "id_directors = id_directors.reset_index([0,'imdbid_tt'])\n",
    "id_directors.columns = ['imdbid_tt','directors']\n",
    "\n",
    "id_directors = id_directors.merge(name_basics[['nconst','primaryName']],how='inner',left_on='directors',right_on='nconst')\n",
    "id_directors['firstName'] = id_directors['primaryName'].str.extract('(^\\S+) ')\n",
    "# id_directors['gender'] = id_directors['firstName'].apply(d.get_gender)\n",
    "\n",
    "id_directors.head()"
   ]
  },
  {
   "cell_type": "markdown",
   "metadata": {},
   "source": [
    "Process merged writer data"
   ]
  },
  {
   "cell_type": "code",
   "execution_count": 22,
   "metadata": {
    "scrolled": true
   },
   "outputs": [
    {
     "data": {
      "text/html": [
       "<div>\n",
       "<style scoped>\n",
       "    .dataframe tbody tr th:only-of-type {\n",
       "        vertical-align: middle;\n",
       "    }\n",
       "\n",
       "    .dataframe tbody tr th {\n",
       "        vertical-align: top;\n",
       "    }\n",
       "\n",
       "    .dataframe thead th {\n",
       "        text-align: right;\n",
       "    }\n",
       "</style>\n",
       "<table border=\"1\" class=\"dataframe\">\n",
       "  <thead>\n",
       "    <tr style=\"text-align: right;\">\n",
       "      <th></th>\n",
       "      <th>imdbid_tt</th>\n",
       "      <th>writers</th>\n",
       "      <th>nconst</th>\n",
       "      <th>primaryName</th>\n",
       "      <th>firstName</th>\n",
       "    </tr>\n",
       "  </thead>\n",
       "  <tbody>\n",
       "    <tr>\n",
       "      <td>0</td>\n",
       "      <td>tt0223341</td>\n",
       "      <td>nm0349785</td>\n",
       "      <td>nm0349785</td>\n",
       "      <td>Alice Guy</td>\n",
       "      <td>Alice</td>\n",
       "    </tr>\n",
       "    <tr>\n",
       "      <td>1</td>\n",
       "      <td>tt0000091</td>\n",
       "      <td>nm0617588</td>\n",
       "      <td>nm0617588</td>\n",
       "      <td>Georges Méliès</td>\n",
       "      <td>Georges</td>\n",
       "    </tr>\n",
       "    <tr>\n",
       "      <td>2</td>\n",
       "      <td>tt0000211</td>\n",
       "      <td>nm0617588</td>\n",
       "      <td>nm0617588</td>\n",
       "      <td>Georges Méliès</td>\n",
       "      <td>Georges</td>\n",
       "    </tr>\n",
       "    <tr>\n",
       "      <td>3</td>\n",
       "      <td>tt0131934</td>\n",
       "      <td>nm0617588</td>\n",
       "      <td>nm0617588</td>\n",
       "      <td>Georges Méliès</td>\n",
       "      <td>Georges</td>\n",
       "    </tr>\n",
       "    <tr>\n",
       "      <td>4</td>\n",
       "      <td>tt0000417</td>\n",
       "      <td>nm0617588</td>\n",
       "      <td>nm0617588</td>\n",
       "      <td>Georges Méliès</td>\n",
       "      <td>Georges</td>\n",
       "    </tr>\n",
       "  </tbody>\n",
       "</table>\n",
       "</div>"
      ],
      "text/plain": [
       "   imdbid_tt    writers     nconst     primaryName firstName\n",
       "0  tt0223341  nm0349785  nm0349785       Alice Guy     Alice\n",
       "1  tt0000091  nm0617588  nm0617588  Georges Méliès   Georges\n",
       "2  tt0000211  nm0617588  nm0617588  Georges Méliès   Georges\n",
       "3  tt0131934  nm0617588  nm0617588  Georges Méliès   Georges\n",
       "4  tt0000417  nm0617588  nm0617588  Georges Méliès   Georges"
      ]
     },
     "execution_count": 22,
     "metadata": {},
     "output_type": "execute_result"
    }
   ],
   "source": [
    "id_writers = pd.DataFrame(merge['writers'].str.split(',').tolist(),index=merge['imdbid_tt']).stack()\n",
    "id_writers = id_writers.reset_index([0,'imdbid_tt'])\n",
    "id_writers.columns = ['imdbid_tt','writers']\n",
    "\n",
    "id_writers = id_writers.merge(name_basics[['nconst','primaryName']],how='inner',left_on='writers',right_on='nconst')\n",
    "id_writers['firstName'] = id_writers['primaryName'].str.extract('(^\\S+) ')\n",
    "# id_writers['gender'] = id_writers['firstName'].apply(d.get_gender)\n",
    "\n",
    "id_writers.head()"
   ]
  },
  {
   "cell_type": "markdown",
   "metadata": {},
   "source": [
    "Generate dataset names"
   ]
  },
  {
   "cell_type": "code",
   "execution_count": 23,
   "metadata": {},
   "outputs": [
    {
     "data": {
      "text/plain": [
       "dict_keys(['merge', 'principals_names', 'id_directors', 'id_writers'])"
      ]
     },
     "execution_count": 23,
     "metadata": {},
     "output_type": "execute_result"
    }
   ],
   "source": [
    "from varname import nameof\n",
    "datasets = [merge,principals_names,id_directors,id_writers]\n",
    "datasets_names = [nameof(merge),nameof(principals_names),nameof(id_directors),nameof(id_writers)]\n",
    "datasets_zip = list(zip(datasets,datasets_names))\n",
    "datasets_dict = {}\n",
    "for item in datasets_zip:\n",
    "    datasets_dict[item[1]] = item[0]\n",
    "\n",
    "datasets_dict.keys()"
   ]
  },
  {
   "cell_type": "markdown",
   "metadata": {},
   "source": [
    "Pickle"
   ]
  },
  {
   "cell_type": "code",
   "execution_count": 24,
   "metadata": {},
   "outputs": [],
   "source": [
    "with open('datasets_dict.pickle', 'wb') as f:\n",
    "    pickle.dump(datasets_dict, f, protocol=4)"
   ]
  }
 ],
 "metadata": {
  "kernelspec": {
   "display_name": "Python 3",
   "language": "python",
   "name": "python3"
  },
  "language_info": {
   "codemirror_mode": {
    "name": "ipython",
    "version": 3
   },
   "file_extension": ".py",
   "mimetype": "text/x-python",
   "name": "python",
   "nbconvert_exporter": "python",
   "pygments_lexer": "ipython3",
   "version": "3.7.4"
  }
 },
 "nbformat": 4,
 "nbformat_minor": 2
}
