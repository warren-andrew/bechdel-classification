{
 "cells": [
  {
   "cell_type": "code",
   "execution_count": 224,
   "metadata": {},
   "outputs": [],
   "source": [
    "from collections import defaultdict\n",
    "import requests\n",
    "import time, os\n",
    "\n",
    "import numpy as np\n",
    "import pandas as pd\n",
    "\n",
    "import json, urllib3, string\n",
    "from bs4 import BeautifulSoup\n",
    "\n",
    "import pickle\n",
    "from sqlalchemy import create_engine\n",
    "\n",
    "from itertools import product\n",
    "import seaborn as sns\n",
    "import matplotlib.pyplot as plt\n",
    "from matplotlib.collections import LineCollection\n",
    "from IPython.display import Image\n",
    "import matplotlib.pylab as pylab\n",
    "\n",
    "import re\n",
    "\n",
    "import gender_guesser.detector as gender\n",
    "\n",
    "import statsmodels.api as sm\n",
    "from scipy.stats import chisquare\n",
    "from sklearn.model_selection import train_test_split"
   ]
  },
  {
   "cell_type": "markdown",
   "metadata": {},
   "source": [
    "## Load Pickle'd Modelling Data"
   ]
  },
  {
   "cell_type": "code",
   "execution_count": 225,
   "metadata": {},
   "outputs": [
    {
     "data": {
      "text/html": [
       "<div>\n",
       "<style scoped>\n",
       "    .dataframe tbody tr th:only-of-type {\n",
       "        vertical-align: middle;\n",
       "    }\n",
       "\n",
       "    .dataframe tbody tr th {\n",
       "        vertical-align: top;\n",
       "    }\n",
       "\n",
       "    .dataframe thead th {\n",
       "        text-align: right;\n",
       "    }\n",
       "</style>\n",
       "<table border=\"1\" class=\"dataframe\">\n",
       "  <thead>\n",
       "    <tr style=\"text-align: right;\">\n",
       "      <th></th>\n",
       "      <th>imdbid</th>\n",
       "      <th>title</th>\n",
       "      <th>id</th>\n",
       "      <th>year</th>\n",
       "      <th>rating</th>\n",
       "      <th>imdbid_tt</th>\n",
       "      <th>tconst</th>\n",
       "      <th>directors</th>\n",
       "      <th>writers</th>\n",
       "      <th>production companies</th>\n",
       "      <th>...</th>\n",
       "      <th>1980</th>\n",
       "      <th>1990</th>\n",
       "      <th>2000</th>\n",
       "      <th>2010</th>\n",
       "      <th>2020</th>\n",
       "      <th>writer_female_flag</th>\n",
       "      <th>producer_female_flag</th>\n",
       "      <th>director_female_flag</th>\n",
       "      <th>Ex-US and Top Prod Comp</th>\n",
       "      <th>has top prod comp</th>\n",
       "    </tr>\n",
       "  </thead>\n",
       "  <tbody>\n",
       "    <tr>\n",
       "      <th>2039</th>\n",
       "      <td>0103030</td>\n",
       "      <td>Tacones Lejanos</td>\n",
       "      <td>710</td>\n",
       "      <td>1991</td>\n",
       "      <td>3</td>\n",
       "      <td>tt0103030</td>\n",
       "      <td>tt0103030</td>\n",
       "      <td>nm0000264</td>\n",
       "      <td>nm0000264</td>\n",
       "      <td>Canal+,CiBy 2000,El Deseo</td>\n",
       "      <td>...</td>\n",
       "      <td>0</td>\n",
       "      <td>1</td>\n",
       "      <td>0</td>\n",
       "      <td>0</td>\n",
       "      <td>0</td>\n",
       "      <td>No women</td>\n",
       "      <td>0</td>\n",
       "      <td>No women</td>\n",
       "      <td>1.0</td>\n",
       "      <td>1.0</td>\n",
       "    </tr>\n",
       "    <tr>\n",
       "      <th>3718</th>\n",
       "      <td>0384806</td>\n",
       "      <td>Amityville Horror, The</td>\n",
       "      <td>4688</td>\n",
       "      <td>2005</td>\n",
       "      <td>3</td>\n",
       "      <td>tt0384806</td>\n",
       "      <td>tt0384806</td>\n",
       "      <td>nm1497918</td>\n",
       "      <td>nm0466925,nm0030663,nm0827839,nm0527567,nm0527582</td>\n",
       "      <td>Metro-Goldwyn-Mayer (MGM),Dimension Films,Plat...</td>\n",
       "      <td>...</td>\n",
       "      <td>0</td>\n",
       "      <td>0</td>\n",
       "      <td>1</td>\n",
       "      <td>0</td>\n",
       "      <td>0</td>\n",
       "      <td>Has 1 woman</td>\n",
       "      <td>0</td>\n",
       "      <td>No women</td>\n",
       "      <td>0.0</td>\n",
       "      <td>1.0</td>\n",
       "    </tr>\n",
       "    <tr>\n",
       "      <th>420</th>\n",
       "      <td>0038762</td>\n",
       "      <td>My Darling Clementine</td>\n",
       "      <td>3783</td>\n",
       "      <td>1946</td>\n",
       "      <td>1</td>\n",
       "      <td>tt0038762</td>\n",
       "      <td>tt0038762</td>\n",
       "      <td>nm0000406</td>\n",
       "      <td>nm0257143,nm0588003,nm0375500,nm0482193</td>\n",
       "      <td>Twentieth Century Fox</td>\n",
       "      <td>...</td>\n",
       "      <td>0</td>\n",
       "      <td>0</td>\n",
       "      <td>0</td>\n",
       "      <td>0</td>\n",
       "      <td>0</td>\n",
       "      <td>No women</td>\n",
       "      <td>0</td>\n",
       "      <td>No women</td>\n",
       "      <td>0.0</td>\n",
       "      <td>1.0</td>\n",
       "    </tr>\n",
       "    <tr>\n",
       "      <th>2234</th>\n",
       "      <td>0109686</td>\n",
       "      <td>Dumb &amp;amp; Dumber</td>\n",
       "      <td>890</td>\n",
       "      <td>1994</td>\n",
       "      <td>2</td>\n",
       "      <td>tt0109686</td>\n",
       "      <td>tt0109686</td>\n",
       "      <td>nm0268380,nm0125803</td>\n",
       "      <td>nm0268380,nm0947395,nm0125803</td>\n",
       "      <td>New Line Cinema</td>\n",
       "      <td>...</td>\n",
       "      <td>0</td>\n",
       "      <td>1</td>\n",
       "      <td>0</td>\n",
       "      <td>0</td>\n",
       "      <td>0</td>\n",
       "      <td>No women</td>\n",
       "      <td>No women</td>\n",
       "      <td>No women</td>\n",
       "      <td>0.0</td>\n",
       "      <td>1.0</td>\n",
       "    </tr>\n",
       "    <tr>\n",
       "      <th>6366</th>\n",
       "      <td>2369396</td>\n",
       "      <td>Bounty Killer</td>\n",
       "      <td>5097</td>\n",
       "      <td>2013</td>\n",
       "      <td>3</td>\n",
       "      <td>tt2369396</td>\n",
       "      <td>tt2369396</td>\n",
       "      <td>nm3026907</td>\n",
       "      <td>nm2611629,nm1538954,nm3026907</td>\n",
       "      <td>Just Chorizo Productions,Kickstart Productions</td>\n",
       "      <td>...</td>\n",
       "      <td>0</td>\n",
       "      <td>0</td>\n",
       "      <td>0</td>\n",
       "      <td>1</td>\n",
       "      <td>0</td>\n",
       "      <td>No women</td>\n",
       "      <td>No women</td>\n",
       "      <td>No women</td>\n",
       "      <td>0.0</td>\n",
       "      <td>0.0</td>\n",
       "    </tr>\n",
       "  </tbody>\n",
       "</table>\n",
       "<p>5 rows × 52 columns</p>\n",
       "</div>"
      ],
      "text/plain": [
       "       imdbid                   title    id  year  rating  imdbid_tt  \\\n",
       "2039  0103030         Tacones Lejanos   710  1991       3  tt0103030   \n",
       "3718  0384806  Amityville Horror, The  4688  2005       3  tt0384806   \n",
       "420   0038762   My Darling Clementine  3783  1946       1  tt0038762   \n",
       "2234  0109686       Dumb &amp; Dumber   890  1994       2  tt0109686   \n",
       "6366  2369396           Bounty Killer  5097  2013       3  tt2369396   \n",
       "\n",
       "         tconst            directors  \\\n",
       "2039  tt0103030            nm0000264   \n",
       "3718  tt0384806            nm1497918   \n",
       "420   tt0038762            nm0000406   \n",
       "2234  tt0109686  nm0268380,nm0125803   \n",
       "6366  tt2369396            nm3026907   \n",
       "\n",
       "                                                writers  \\\n",
       "2039                                          nm0000264   \n",
       "3718  nm0466925,nm0030663,nm0827839,nm0527567,nm0527582   \n",
       "420             nm0257143,nm0588003,nm0375500,nm0482193   \n",
       "2234                      nm0268380,nm0947395,nm0125803   \n",
       "6366                      nm2611629,nm1538954,nm3026907   \n",
       "\n",
       "                                   production companies  ...  1980  1990  \\\n",
       "2039                          Canal+,CiBy 2000,El Deseo  ...     0     1   \n",
       "3718  Metro-Goldwyn-Mayer (MGM),Dimension Films,Plat...  ...     0     0   \n",
       "420                               Twentieth Century Fox  ...     0     0   \n",
       "2234                                    New Line Cinema  ...     0     1   \n",
       "6366     Just Chorizo Productions,Kickstart Productions  ...     0     0   \n",
       "\n",
       "      2000  2010  2020  writer_female_flag  producer_female_flag  \\\n",
       "2039     0     0     0            No women                     0   \n",
       "3718     1     0     0         Has 1 woman                     0   \n",
       "420      0     0     0            No women                     0   \n",
       "2234     0     0     0            No women              No women   \n",
       "6366     0     1     0            No women              No women   \n",
       "\n",
       "      director_female_flag  Ex-US and Top Prod Comp  has top prod comp  \n",
       "2039              No women                      1.0                1.0  \n",
       "3718              No women                      0.0                1.0  \n",
       "420               No women                      0.0                1.0  \n",
       "2234              No women                      0.0                1.0  \n",
       "6366              No women                      0.0                0.0  \n",
       "\n",
       "[5 rows x 52 columns]"
      ]
     },
     "execution_count": 225,
     "metadata": {},
     "output_type": "execute_result"
    }
   ],
   "source": [
    "with open('model_principals.pickle', 'rb') as f:\n",
    "    model_principals = pickle.load(f)\n",
    "\n",
    "len(model_principals[]"
   ]
  },
  {
   "cell_type": "code",
   "execution_count": 238,
   "metadata": {},
   "outputs": [
    {
     "name": "stdout",
     "output_type": "stream",
     "text": [
      "3426\n"
     ]
    }
   ],
   "source": [
    "# nontest, test = train_test_split(model_principals, test_size=.2, random_state=10)\n",
    "nontest, test = train_test_split(model_principals[model_principals['decade']>=1990], test_size=.2, random_state=10)\n",
    "train, val = train_test_split(nontest, test_size = .25, random_state = 42)\n",
    "\n",
    "features = ['writer_f_percent', 'director_f_percent', 'producer_f_count',\n",
    "            'editor_f_count', 'cast_f_count', 'has top prod comp', 'Ex-US and Top Prod Comp',\n",
    "#             1900,1910,1920,1930,1940,1950,\n",
    "#             1960,1970,\n",
    "            1980,1990,\n",
    "            2000,2010,2020]\n",
    "\n",
    "target = 'bechdel pass'\n",
    "\n",
    "print(len(train))"
   ]
  },
  {
   "cell_type": "code",
   "execution_count": 239,
   "metadata": {},
   "outputs": [],
   "source": [
    "from sklearn.tree import DecisionTreeClassifier\n",
    "from sklearn.svm import LinearSVC\n",
    "from sklearn.svm import SVC\n",
    "from sklearn.ensemble import RandomForestClassifier\n",
    "from sklearn.linear_model import LogisticRegression\n",
    "from sklearn.neighbors import KNeighborsClassifier\n",
    "from sklearn.model_selection import GridSearchCV\n",
    "from sklearn.preprocessing import PolynomialFeatures"
   ]
  },
  {
   "cell_type": "markdown",
   "metadata": {},
   "source": [
    "## K Nearest Neighbors"
   ]
  },
  {
   "cell_type": "code",
   "execution_count": 240,
   "metadata": {},
   "outputs": [
    {
     "data": {
      "text/plain": [
       "0.6348511383537653"
      ]
     },
     "execution_count": 240,
     "metadata": {},
     "output_type": "execute_result"
    }
   ],
   "source": [
    "knn = KNeighborsClassifier()\n",
    "knn_grid=GridSearchCV(estimator = knn,param_grid = {'n_neighbors':range(1,11)},scoring='accuracy')\n",
    "knn_grid.fit(train[features], train[target])\n",
    "knn_grid.score(val[features],val[target])"
   ]
  },
  {
   "cell_type": "code",
   "execution_count": 241,
   "metadata": {},
   "outputs": [
    {
     "data": {
      "text/plain": [
       "5"
      ]
     },
     "execution_count": 241,
     "metadata": {},
     "output_type": "execute_result"
    }
   ],
   "source": [
    "clf.get_params()['estimator__n_neighbors']"
   ]
  },
  {
   "cell_type": "markdown",
   "metadata": {},
   "source": [
    "## Random Forests"
   ]
  },
  {
   "cell_type": "code",
   "execution_count": 242,
   "metadata": {},
   "outputs": [
    {
     "data": {
      "text/plain": [
       "0.6567425569176882"
      ]
     },
     "execution_count": 242,
     "metadata": {},
     "output_type": "execute_result"
    }
   ],
   "source": [
    "randomforest = RandomForestClassifier(n_estimators=100)\n",
    "randomforest.fit(train[features], train[target])\n",
    "randomforest.score(val[features],val[target])"
   ]
  },
  {
   "cell_type": "markdown",
   "metadata": {},
   "source": [
    "## SVC"
   ]
  },
  {
   "cell_type": "code",
   "execution_count": 243,
   "metadata": {},
   "outputs": [
    {
     "data": {
      "text/plain": [
       "0.6777583187390543"
      ]
     },
     "execution_count": 243,
     "metadata": {},
     "output_type": "execute_result"
    }
   ],
   "source": [
    "linearsvc = LinearSVC()\n",
    "linearsvc.fit(train[features], train[target])\n",
    "linearsvc.score(val[features],val[target])\n",
    "linearsvc.score(test[features],test[target])"
   ]
  },
  {
   "cell_type": "markdown",
   "metadata": {},
   "source": [
    "## Logistic Regression"
   ]
  },
  {
   "cell_type": "code",
   "execution_count": 244,
   "metadata": {},
   "outputs": [
    {
     "name": "stdout",
     "output_type": "stream",
     "text": [
      "intercept:  -0.8667\n",
      "Training score: 0.6625802685347344\n",
      "Validation score: 0.6865148861646234\n"
     ]
    },
    {
     "data": {
      "text/plain": [
       "array([ 1.76266217,  0.23168374,  0.18902677,  0.3445404 ,  1.52459858,\n",
       "       -0.26631191,  0.10048602,  0.        , -0.48658142, -0.39107489,\n",
       "       -0.23890266,  0.24981821])"
      ]
     },
     "execution_count": 244,
     "metadata": {},
     "output_type": "execute_result"
    }
   ],
   "source": [
    "from sklearn.linear_model import LogisticRegression\n",
    "\n",
    "lm_1 = LogisticRegression(solver='newton-cg',  \n",
    "                          C=100000)  # No regularization\n",
    "\n",
    "lm_1.fit(train[features], train[target])\n",
    "\n",
    "print('intercept: ', round(lm_1.intercept_[0], 4))\n",
    "val_score = lm_1.score(val[features], val[target])\n",
    "print('Training score:',lm_1.score(train[features], train[target]))\n",
    "print('Validation score:',val_score)\n",
    "lm_1.coef_[0]"
   ]
  },
  {
   "cell_type": "code",
   "execution_count": 245,
   "metadata": {},
   "outputs": [
    {
     "name": "stdout",
     "output_type": "stream",
     "text": [
      "Logistic test score: 0.6777583187390543\n"
     ]
    }
   ],
   "source": [
    "test_score = lm_1.score(test[features], test[target])\n",
    "print('Logistic test score:',test_score)\n"
   ]
  },
  {
   "cell_type": "markdown",
   "metadata": {},
   "source": [
    "ROC Curve Plotting"
   ]
  },
  {
   "cell_type": "code",
   "execution_count": 246,
   "metadata": {},
   "outputs": [
    {
     "data": {
      "image/png": "[encoded data removed]",
      "text/plain": [
       "<Figure size 720x576 with 1 Axes>"
      ]
     },
     "metadata": {},
     "output_type": "display_data"
    }
   ],
   "source": [
    "from sklearn.metrics import roc_curve\n",
    "from sklearn.metrics import roc_auc_score\n",
    "\n",
    "params = {'figure.figsize': (10, 8),\n",
    "         'axes.labelsize': 'x-large',\n",
    "         'axes.titlesize':'x-large',\n",
    "         'xtick.labelsize':'x-large',\n",
    "         'ytick.labelsize':'x-large',}\n",
    "\n",
    "sns.set(font_scale=2)\n",
    "\n",
    "pylab.rcParams.update(params)\n",
    "\n",
    "\n",
    "lr_probs = lm_1.predict_proba(test[features])\n",
    "\n",
    "# keep probabilities for the positive outcome only\n",
    "lr_probs = lr_probs[:, 1]\n",
    "# calculate scores\n",
    "lr_auc = roc_auc_score(test[target], lr_probs)\n",
    "# calculate roc curves\n",
    "lr_fpr, lr_tpr, _ = roc_curve(test[target], lr_probs)\n",
    "# plot the roc curve for the model\n",
    "plt.plot(lr_fpr, lr_tpr, marker='.', label='Logistic')\n",
    "# axis labels\n",
    "plt.xlabel('False Positive Rate')\n",
    "plt.ylabel('True Positive Rate')\n",
    "# show the legend\n",
    "plt.legend()\n",
    "title = 'Logistic: ROC AUC=%.3f' % (lr_auc)\n",
    "plt.title(title, size = 30);\n",
    "# show the plot\n",
    "plt.show()"
   ]
  },
  {
   "cell_type": "code",
   "execution_count": 247,
   "metadata": {},
   "outputs": [
    {
     "name": "stdout",
     "output_type": "stream",
     "text": [
      "Recall is [0.26351351 0.94126074]\n",
      "Precision is [0.74050633 0.66768293]\n"
     ]
    },
    {
     "data": {
      "image/png": "[encoded data removed]",
      "text/plain": [
       "<Figure size 1080x1080 with 2 Axes>"
      ]
     },
     "metadata": {},
     "output_type": "display_data"
    }
   ],
   "source": [
    "from sklearn import metrics\n",
    "from sklearn.metrics import recall_score\n",
    "# Precision\n",
    "from sklearn.metrics import precision_score\n",
    "print(\"Recall is\", recall_score(test[target], test_predicts, average=None))\n",
    "print(\"Precision is\", precision_score(test[target], test_predicts, average=None))\n",
    "\n",
    "test_predicts = lm_1.predict(test[features])\n",
    "cm = metrics.confusion_matrix(test[target], test_predicts)\n",
    "\n",
    "plt.figure(figsize=(15,15))\n",
    "g = sns.heatmap(cm, annot=True, fmt=\".0f\", linewidths=.5, square = True, cmap = 'Blues');\n",
    "plt.ylabel('Actual label');\n",
    "plt.xlabel('Predicted label');\n",
    "all_sample_title = 'Logit Regression Accuracy Score: %.2f' % (test_score*100)\n",
    "# g.set(xticks=['Fail','Pass'],yticks=['Fail','Pass'])\n",
    "g.set_xticklabels(labels=['Fail','Pass'])\n",
    "g.set_yticklabels(labels=['Fail','Pass'])\n",
    "plt.title(all_sample_title, size = 30);\n",
    "plt.savefig(\"Confusion Matrix.svg\", format=\"svg\")"
   ]
  },
  {
   "cell_type": "markdown",
   "metadata": {
    "scrolled": true
   },
   "source": [
    "# Appendix - Extras\n",
    "\n",
    "### Can opt to get the dubious column from getMovieByImbdId on Bechdel Test Movie List"
   ]
  },
  {
   "cell_type": "code",
   "execution_count": 80,
   "metadata": {
    "scrolled": true
   },
   "outputs": [],
   "source": [
    "# %%time\n",
    "\n",
    "# dubious_data = []\n",
    "# error_ids = []\n",
    "# for row in bechdel_movies['imdbid']:\n",
    "#     response = requests.get('http://bechdeltest.com/api/v1/getMovieByImdbId?imdbid='+str(row))\n",
    "#     data = response.json()\n",
    "#     if str(row) == data['imdbid']:\n",
    "#         print('Match found with',str(row))\n",
    "#         dubious_dict = {}\n",
    "#         dubious_dict['imdbid'] = data['imdbid']\n",
    "#         dubious_dict['dubious'] = data['dubious']\n",
    "#         dubious_data.append(dubious_dict)\n",
    "#     else:\n",
    "#         print('Error with',str(row))\n",
    "#         error_ids.append(str(row))\n",
    "        \n",
    "# print(error_ids)        \n",
    "# pd.DataFrame(dubious_data)"
   ]
  },
  {
   "cell_type": "markdown",
   "metadata": {},
   "source": [
    "### Query movies by ID using imdbpy library"
   ]
  },
  {
   "cell_type": "code",
   "execution_count": 25,
   "metadata": {},
   "outputs": [],
   "source": [
    "from imdb import IMDb\n",
    "from imdb.helpers import makeTextNotes"
   ]
  },
  {
   "cell_type": "code",
   "execution_count": 26,
   "metadata": {},
   "outputs": [
    {
     "name": "stdout",
     "output_type": "stream",
     "text": [
      "Wall time: 287 ms\n"
     ]
    }
   ],
   "source": [
    "%%time\n",
    "# create an instance of the IMDb class\n",
    "ia = IMDb()"
   ]
  },
  {
   "cell_type": "code",
   "execution_count": 27,
   "metadata": {},
   "outputs": [
    {
     "data": {
      "text/plain": [
       "['awards',\n",
       " 'biography',\n",
       " 'filmography',\n",
       " 'genres links',\n",
       " 'keywords links',\n",
       " 'main',\n",
       " 'news',\n",
       " 'official sites',\n",
       " 'other works',\n",
       " 'publicity']"
      ]
     },
     "execution_count": 27,
     "metadata": {},
     "output_type": "execute_result"
    }
   ],
   "source": [
    "ia.get_person_infoset()"
   ]
  },
  {
   "cell_type": "code",
   "execution_count": null,
   "metadata": {},
   "outputs": [],
   "source": [
    "# movie_info = ['cast', 'genres', 'year', 'producers', 'editors', 'editorial department', \\\n",
    "#  'production managers', 'assistant directors', 'script department', 'writer', \\\n",
    "#  'director', 'production companies']"
   ]
  },
  {
   "cell_type": "code",
   "execution_count": 4,
   "metadata": {},
   "outputs": [
    {
     "name": "stdout",
     "output_type": "stream",
     "text": [
      "<div class=\"soda odd\">\n",
      "          Adopted wife's daughter, Pat.<br/>\n",
      "</div>\n",
      "pronouns not found in bio for nm0510024\n"
     ]
    },
    {
     "data": {
      "text/plain": [
       "'error - no pronouns'"
      ]
     },
     "execution_count": 4,
     "metadata": {},
     "output_type": "execute_result"
    }
   ],
   "source": [
    "name_id = 'nm0510024'\n",
    "url = \"https://www.imdb.com/name/\"+name_id+\"/bio?ref_=nm_ov_bio_sm\"\n",
    "# try:\n",
    "response = requests.get(url)\n",
    "if response.status_code != 200:\n",
    "    print('error: page not found with', name_id)\n",
    "    pronoun_mode = 'error'\n",
    "else:\n",
    "    soup = BeautifulSoup(response.text)\n",
    "    div = soup.find('div',class_='soda odd')\n",
    "    print(div)\n",
    "    if type(div) == type(None):\n",
    "        print('bio not found with',name_id)\n",
    "        pronoun_mode = \"error\"\n",
    "    else:\n",
    "        bio = div.text.strip()\n",
    "        patt = re.compile(r\"(he|his|him|she|her|it|its|they|their|them) \",re.IGNORECASE)\n",
    "        matches = patt.findall(bio)\n",
    "        if matches == []:\n",
    "            print('pronouns not found in bio for',name_id)\n",
    "            pronoun_mode = 'error - no pronouns'\n",
    "        else:\n",
    "            matches_series = pd.Series(matches).str.lower().value_counts().reset_index()\n",
    "            matches_series.loc[matches_series['index'].str.contains('he|his|him'),'bio gender'] = 'male'\n",
    "            matches_series.loc[matches_series['index'].str.contains('she|her'),'bio gender'] = 'female'\n",
    "            matches_series.loc[matches_series['index'].str.contains('it|its|they|their|them'),'bio gender'] = 'nb'\n",
    "            pronoun_mode = matches_series['bio gender'].value_counts().index[0]\n",
    "# except Exception as e:\n",
    "#     print(e)\n",
    "#     pronoun_mode = 'error'\n",
    "pronoun_mode"
   ]
  },
  {
   "cell_type": "code",
   "execution_count": 106,
   "metadata": {},
   "outputs": [
    {
     "name": "stdout",
     "output_type": "stream",
     "text": [
      "['he', 'he', 'His', 'he', 'he', 'he', 'he', 'he', 'he']\n"
     ]
    }
   ],
   "source": [
    "patt = re.compile(r\"(he|she|it|they|his|her|their) \",re.IGNORECASE)\n",
    "print(patt.findall(words))\n",
    "# print(list(pd.Series(patt.findall(words)).str.lower().value_counts().index))"
   ]
  },
  {
   "cell_type": "code",
   "execution_count": 39,
   "metadata": {},
   "outputs": [
    {
     "data": {
      "text/plain": [
       "'When a beautiful stranger leads computer hacker Neo to a forbidding underworld, he discovers the shocking truth--the life he knows is the elaborate deception of an evil cyber-intelligence.'"
      ]
     },
     "execution_count": 39,
     "metadata": {},
     "output_type": "execute_result"
    }
   ],
   "source": [
    "movie = ia.get_movie('0133093')\n",
    "plot=movie['plot'][0]\n",
    "plot"
   ]
  },
  {
   "cell_type": "code",
   "execution_count": 29,
   "metadata": {},
   "outputs": [
    {
     "name": "stdout",
     "output_type": "stream",
     "text": [
      "[<Person id:0905154[http] name:_Lana Wachowski_>, <Person id:0905152[http] name:_Lilly Wachowski_>]\n",
      "[<Person id:0905154[http] name:_Lana Wachowski_>, <Person id:0905152[http] name:_Lilly Wachowski_>]\n"
     ]
    }
   ],
   "source": [
    "print(movie['directors'])\n",
    "print(movie['director'])\n"
   ]
  },
  {
   "cell_type": "markdown",
   "metadata": {},
   "source": [
    "# Buggy code"
   ]
  },
  {
   "cell_type": "markdown",
   "metadata": {},
   "source": [
    "### Pickle Imported Data"
   ]
  },
  {
   "cell_type": "code",
   "execution_count": 136,
   "metadata": {},
   "outputs": [
    {
     "name": "stdout",
     "output_type": "stream",
     "text": [
      "bechdel_movies.pickle\n",
      "title_crew.pickle\n",
      "title_basics.pickle\n"
     ]
    }
   ],
   "source": [
    "# for item in datasets_zip[:3]:\n",
    "#     to_pickle =item[1] + '.pickle'\n",
    "#     print(to_pickle)\n",
    "#     with open(to_pickle, 'wb') as f:\n",
    "#         pickle.dump(item[0], f, pickle.HIGHEST_PROTOCOL)"
   ]
  },
  {
   "cell_type": "code",
   "execution_count": 137,
   "metadata": {},
   "outputs": [
    {
     "name": "stdout",
     "output_type": "stream",
     "text": [
      "title_principals.pickle\n",
      "title_akas.pickle\n",
      "name_basics.pickle\n"
     ]
    }
   ],
   "source": [
    "# for item in datasets_zip[3:]:\n",
    "#     to_pickle =item[1] + '.pickle'\n",
    "#     print(to_pickle)\n",
    "#     with open(to_pickle, 'wb') as f:\n",
    "#         pickle.dump(item[0], f, pickle.HIGHEST_PROTOCOL)"
   ]
  },
  {
   "cell_type": "markdown",
   "metadata": {},
   "source": [
    "### Load Pickle'd Data when returning to this notebook"
   ]
  },
  {
   "cell_type": "code",
   "execution_count": 139,
   "metadata": {},
   "outputs": [],
   "source": [
    "db_dict = {}"
   ]
  },
  {
   "cell_type": "code",
   "execution_count": 140,
   "metadata": {},
   "outputs": [
    {
     "name": "stdout",
     "output_type": "stream",
     "text": [
      "bechdel_movies.pickle\n",
      "title_crew.pickle\n",
      "title_basics.pickle\n"
     ]
    }
   ],
   "source": [
    "# for item in datasets_zip[:3]:\n",
    "#     from_pickle =item[1] + '.pickle'\n",
    "#     print(from_pickle)\n",
    "#     with open(from_pickle, 'rb') as f:\n",
    "#         db_dict[item[1]] = pickle.load(f)"
   ]
  },
  {
   "cell_type": "code",
   "execution_count": 157,
   "metadata": {},
   "outputs": [],
   "source": [
    "# for item in datasets_zip[3:]:\n",
    "#     from_pickle =item[1] + '.pickle'\n",
    "#     print(from_pickle)\n",
    "#     with open(from_pickle, 'rb') as f:\n",
    "#         db_dict[item[1]] = pickle.load(f)"
   ]
  },
  {
   "cell_type": "markdown",
   "metadata": {},
   "source": [
    "# Appendix - Old Code"
   ]
  },
  {
   "cell_type": "code",
   "execution_count": null,
   "metadata": {},
   "outputs": [],
   "source": [
    "# engine = create_engine('postgresql://postgres:warroo:localhost@localhost:5432/tennis')\n",
    "\n",
    "# title_principals = pd.read_csv('title.principals.tsv',sep='\\t')\n",
    "\n",
    "# # I'm choosing to name this table \"aus_men\"\n",
    "# title_principals.to_sql('title_principals', engine, index=False)"
   ]
  },
  {
   "cell_type": "code",
   "execution_count": null,
   "metadata": {},
   "outputs": [],
   "source": []
  }
 ],
 "metadata": {
  "kernelspec": {
   "display_name": "Python 3",
   "language": "python",
   "name": "python3"
  },
  "language_info": {
   "codemirror_mode": {
    "name": "ipython",
    "version": 3
   },
   "file_extension": ".py",
   "mimetype": "text/x-python",
   "name": "python",
   "nbconvert_exporter": "python",
   "pygments_lexer": "ipython3",
   "version": "3.8.5"
  }
 },
 "nbformat": 4,
 "nbformat_minor": 2
}
